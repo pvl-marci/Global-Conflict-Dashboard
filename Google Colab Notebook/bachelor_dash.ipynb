{
  "nbformat": 4,
  "nbformat_minor": 0,
  "metadata": {
    "colab": {
      "name": "bachelor_dash.ipynb",
      "provenance": []
    },
    "kernelspec": {
      "name": "python3",
      "display_name": "Python 3"
    },
    "language_info": {
      "name": "python"
    }
  },
  "cells": [
    {
      "cell_type": "markdown",
      "source": [
        "imports for the dash\n",
        "uses jupyter dash"
      ],
      "metadata": {
        "id": "RZG_BeWFYnKn"
      }
    },
    {
      "cell_type": "code",
      "execution_count": null,
      "metadata": {
        "id": "aSjUQPhbTkPk"
      },
      "outputs": [],
      "source": [
        "!pip install jupyter-dash\n",
        "\n",
        "import pandas as pd\n",
        "import plotly.express as px\n",
        "from jupyter_dash import JupyterDash\n",
        "from dash import dcc\n",
        "import dash_html_components as html\n",
        "from dash.dependencies import Input, Output\n",
        "import plotly.graph_objects as go\n",
        "from plotly.subplots import make_subplots"
      ]
    },
    {
      "cell_type": "markdown",
      "source": [
        "CSV Oilprices (UKBrent)"
      ],
      "metadata": {
        "id": "SuqQbfXIYmvv"
      }
    },
    {
      "cell_type": "code",
      "source": [
        "gdp = pd.read_csv('gdp.csv')\n",
        "\n",
        "fig_gdp = px.scatter(\n",
        "    gdp, x=\"year\", y=\"gdp\", labels={\n",
        "        \"gdp\": \"BIP in Billionen US-Dollar\",\n",
        "        \"year\": \"Jahr\",\n",
        "    })\n",
        "\n",
        "fig_gdp.show()"
      ],
      "metadata": {
        "id": "4Su_nO4mdLi3"
      },
      "execution_count": null,
      "outputs": []
    },
    {
      "cell_type": "code",
      "source": [
        "df= pd.read_csv('bachelor_table.csv', header=[0])\n",
        "\n",
        "fig = px.line(df, x='year',y='military_spendings_usd', color='country_name')\n",
        "\n",
        "fig = go.Figure()\n",
        "for subset_id, subset in df.groupby('year'):\n",
        "    fig.add_trace(\n",
        "        px.line(\n",
        "            subset,\n",
        "            x=subset['year'],\n",
        "            y=subset['gdp_usd'],\n",
        "            color=subset['country_code'],\n",
        "            title=subset_id\n",
        "        ).data[0]\n",
        "    )\n",
        "\n",
        "fig.show()\n",
        "\n",
        "\n",
        "\n",
        "\n",
        "\n",
        "\n"
      ],
      "metadata": {
        "id": "UOkSFRSXRRWv"
      },
      "execution_count": null,
      "outputs": []
    },
    {
      "cell_type": "code",
      "source": [
        "from plotly.subplots import make_subplots"
      ],
      "metadata": {
        "id": "rasxfh8rbv4s"
      },
      "execution_count": null,
      "outputs": []
    },
    {
      "cell_type": "code",
      "source": [
        "import plotly.graph_objects as go\n",
        "from plotly.subplots import make_subplots\n",
        "\n",
        "\n",
        "\n",
        "df = pd.read_csv('bachelor_tablde.csv', header=[0])\n",
        "war_table = pd.read_csv('war_table.csv', header=[0])\n",
        "\n",
        "dff = df[df['country_code'] == 'DEU']\n",
        "\n",
        "\n",
        "# Create figure with secondary y-axis\n",
        "fig = make_subplots(specs=[[{\"secondary_y\": True}]])\n",
        "\n",
        "# Add traces\n",
        "fig.add_trace(\n",
        "    go.Scatter(x=dff['year'], y=dff['military_spendings_usd'], name=\"Militärausgaben in USD\",mode='lines+markers'),\n",
        "    secondary_y=False,\n",
        ")\n",
        "\n",
        "fig.add_trace(\n",
        "    go.Bar(x=war_table['year'], y=war_table[war_table['wars']], name=\"GDP Zuwachs in %\"),\n",
        "    secondary_y=True,\n",
        "    \n",
        ")\n",
        "\n",
        "# Add figure title\n",
        "fig.update_layout(\n",
        "    title_text=\"Double Y Axis Example\"\n",
        ")\n",
        "\n",
        "# Set x-axis title\n",
        "fig.update_xaxes(title_text=\"xaxis title\")\n",
        "\n",
        "# Set y-axes titles\n",
        "fig.update_yaxes(title_text=\"<b>primary</b> Militärausgaben in USD\", secondary_y=False)\n",
        "fig.update_yaxes(title_text=\"<b>secondary</b> GDP Zuwach in %\", secondary_y=True)\n",
        "\n",
        "fig.show()"
      ],
      "metadata": {
        "id": "RRgSrOGGbnAk"
      },
      "execution_count": null,
      "outputs": []
    },
    {
      "cell_type": "markdown",
      "source": [
        ""
      ],
      "metadata": {
        "id": "UQ1dTO5dRRCJ"
      }
    },
    {
      "cell_type": "code",
      "source": [
        "import plotly.graph_objects as go\n",
        "import plotly.express as px\n",
        "\n",
        "# get data\n",
        "df_gapminder = pd.read_csv('bachelor_table.csv', header=[0])\n",
        "\n",
        "# manage data\n",
        "df_gapminder_country = df_gapminder.groupby(['country_name', 'year']).mean().reset_index()\n",
        "df = df_gapminder_country.pivot(index='year', columns='country_name', values = 'gdp_usd')\n",
        "df.tail()\n",
        "\n",
        "# plotly setup and traces\n",
        "fig = go.Figure()\n",
        "for col in df.columns:\n",
        "    fig.add_trace(go.Scatter(x=df.index, y=df[col].values,\n",
        "                                 name = col,\n",
        "                                 mode = 'lines'))\n",
        "\n",
        "\n",
        "# format and show figure\n",
        "fig.update_layout(height=800, width=1000)\n",
        "fig.show()"
      ],
      "metadata": {
        "id": "6Mn1YAbRhAnV"
      },
      "execution_count": null,
      "outputs": []
    },
    {
      "cell_type": "markdown",
      "source": [
        "**IMPORTANT:** zur Visualisierung im Dashboard"
      ],
      "metadata": {
        "id": "YT8PaenuJbIt"
      }
    },
    {
      "cell_type": "code",
      "source": [
        "df = pd.read_csv('war_table.csv')\n",
        "fig = go.Figure(data=[\n",
        "    go.Bar(name='Dispute', x=df['year'], y=df['dispute']),\n",
        "    go.Bar(name='gewaltlose Krisen', x=df['year'], y=df['non_violent_crises']),\n",
        "    go.Bar(name='gewaltsame Krisen', x=df['year'], y=df['violent_crises']),\n",
        "    go.Bar(name='limitierte Kriege', x=df['year'], y=df['limited_wars']),\n",
        "    go.Bar(name='Kriege', x=df['year'], y=df['wars']),\n",
        "])\n",
        "# Change the bar mode\n",
        "fig.update_layout(barmode='stack')\n",
        "fig.show()"
      ],
      "metadata": {
        "id": "aU4kurfLqNiP"
      },
      "execution_count": null,
      "outputs": []
    },
    {
      "cell_type": "code",
      "source": [
        "df = df = pd.read_csv('war_table.csv')\n",
        "\n",
        "fig = px.pie(df, values=df.columns, names=df.columns, title='Population of European continent')\n",
        "fig.show()"
      ],
      "metadata": {
        "id": "_iR4OooeFQhy"
      },
      "execution_count": null,
      "outputs": []
    },
    {
      "cell_type": "code",
      "source": [
        "! pip install https://github.com/pandas-profiling/pandas-profiling/archive/master.zip \n",
        "from pandas_profiling import ProfileReport"
      ],
      "metadata": {
        "id": "s68ePZp3OftH"
      },
      "execution_count": null,
      "outputs": []
    },
    {
      "cell_type": "code",
      "source": [
        "df = pd.read_csv('keywords_googlesearch_timeline.csv')\n",
        "df['Woche'] =  pd.to_datetime(df['Woche'])\n",
        "profile = ProfileReport(df, title='Report')\n",
        "\n",
        "\n",
        "\n"
      ],
      "metadata": {
        "id": "V-VWqxANPEvQ"
      },
      "execution_count": null,
      "outputs": []
    },
    {
      "cell_type": "markdown",
      "source": [
        "Google Trends Analyse von Ukraine und Afghanistan "
      ],
      "metadata": {
        "id": "JT4AulESJha2"
      }
    },
    {
      "cell_type": "code",
      "source": [
        "df = pd.read_csv('keywords_googlesearch_timeline.csv')\n",
        "\n",
        "df['Woche'] =  pd.to_datetime(df['Woche'])\n",
        "#df[[\"ukraine: (Weltweit)\", \"afghanistan: (Weltweit)\"]] = df[[\"ukraine: (Weltweit)\", \"afghanistan: (Weltweit)\"]].apply(pd.to_numeric)\n",
        "\n",
        "\n",
        "fig = px.line(df, x='Woche', y=['ukraine: (Weltweit)','afghanistan: (Weltweit)'])\n",
        "fig.show()\n"
      ],
      "metadata": {
        "id": "1OEwnMHcJhNO"
      },
      "execution_count": null,
      "outputs": []
    },
    {
      "cell_type": "code",
      "source": [
        "df = pd.concat(\n",
        "    map(pd.read_csv, ['ukraine_google_trends.csv', 'afghanistan_google_trends.csv']), ignore_index=True)\n",
        "\n",
        "df['Woche'] =  pd.to_datetime(df['Woche'])\n",
        "fig = px.scatter(df, x='Woche', y=['ukraine: (Weltweit)','afghanistan: (Weltweit)'])\n",
        "fig.update_traces(mode = 'lines+markers')\n",
        "fig.show()"
      ],
      "metadata": {
        "id": "2KzXIvHKRrVh"
      },
      "execution_count": null,
      "outputs": []
    },
    {
      "cell_type": "code",
      "source": [
        "\n",
        "df = pd.read_csv('merged_google_trends.csv',sep=';',header=[0])\n",
        "fig = px.scatter(df, x='index', y=['afg','ukraine','irak'])\n",
        "fig.update_traces(mode = 'lines+markers')\n",
        "fig.show()"
      ],
      "metadata": {
        "id": "cq4RGIrJWaTY"
      },
      "execution_count": null,
      "outputs": []
    },
    {
      "cell_type": "code",
      "source": [
        "# Testdata einlesen\n",
        "testdata = pd.read_csv('testdata.csv', header=[0])\n",
        "# Array\n",
        "testkip = []\n",
        "for kip in testdata:\n",
        "    testkip.append({'label': str(testdata), 'value': testdata})\n",
        "print(testkip)\n"
      ],
      "metadata": {
        "id": "zOBdVFpsff2e"
      },
      "execution_count": null,
      "outputs": []
    },
    {
      "cell_type": "code",
      "source": [
        "df = pd.read_csv('csv.csv')\n",
        "df\n",
        "\n",
        "df = df.reset_index()\n",
        "\n",
        "df = pd.melt(df, id_vars='Land', value_vars=['2021','2020','2019','2018','2017','2016','2015','2014','2013','2012','2011','2010','2009','2008','2007','2005','2000','1995','1990'])\n",
        "df"
      ],
      "metadata": {
        "colab": {
          "base_uri": "https://localhost:8080/",
          "height": 419
        },
        "id": "ZE1_OdX1fSrF",
        "outputId": "d42f321e-eac4-4488-ed56-620a60d2d107"
      },
      "execution_count": null,
      "outputs": [
        {
          "output_type": "execute_result",
          "data": {
            "text/plain": [
              "               Land variable     value\n",
              "0          Albanien     2021     241.0\n",
              "1           Belgien     2021    6400.0\n",
              "2         Bulgarien     2021    1282.0\n",
              "3       Deutschland     2021   63339.0\n",
              "4          Dänemark     2021    5551.0\n",
              "..              ...      ...       ...\n",
              "546      Tschechien     1990       NaN\n",
              "547          Türkei     1990    5315.0\n",
              "548             USA     1990  306170.0\n",
              "549          Ungarn     1990       NaN\n",
              "550  Großbritannien     1990   39590.0\n",
              "\n",
              "[551 rows x 3 columns]"
            ],
            "text/html": [
              "\n",
              "  <div id=\"df-c998e232-5092-481e-aaba-fa3c5419bf2e\">\n",
              "    <div class=\"colab-df-container\">\n",
              "      <div>\n",
              "<style scoped>\n",
              "    .dataframe tbody tr th:only-of-type {\n",
              "        vertical-align: middle;\n",
              "    }\n",
              "\n",
              "    .dataframe tbody tr th {\n",
              "        vertical-align: top;\n",
              "    }\n",
              "\n",
              "    .dataframe thead th {\n",
              "        text-align: right;\n",
              "    }\n",
              "</style>\n",
              "<table border=\"1\" class=\"dataframe\">\n",
              "  <thead>\n",
              "    <tr style=\"text-align: right;\">\n",
              "      <th></th>\n",
              "      <th>Land</th>\n",
              "      <th>variable</th>\n",
              "      <th>value</th>\n",
              "    </tr>\n",
              "  </thead>\n",
              "  <tbody>\n",
              "    <tr>\n",
              "      <th>0</th>\n",
              "      <td>Albanien</td>\n",
              "      <td>2021</td>\n",
              "      <td>241.0</td>\n",
              "    </tr>\n",
              "    <tr>\n",
              "      <th>1</th>\n",
              "      <td>Belgien</td>\n",
              "      <td>2021</td>\n",
              "      <td>6400.0</td>\n",
              "    </tr>\n",
              "    <tr>\n",
              "      <th>2</th>\n",
              "      <td>Bulgarien</td>\n",
              "      <td>2021</td>\n",
              "      <td>1282.0</td>\n",
              "    </tr>\n",
              "    <tr>\n",
              "      <th>3</th>\n",
              "      <td>Deutschland</td>\n",
              "      <td>2021</td>\n",
              "      <td>63339.0</td>\n",
              "    </tr>\n",
              "    <tr>\n",
              "      <th>4</th>\n",
              "      <td>Dänemark</td>\n",
              "      <td>2021</td>\n",
              "      <td>5551.0</td>\n",
              "    </tr>\n",
              "    <tr>\n",
              "      <th>...</th>\n",
              "      <td>...</td>\n",
              "      <td>...</td>\n",
              "      <td>...</td>\n",
              "    </tr>\n",
              "    <tr>\n",
              "      <th>546</th>\n",
              "      <td>Tschechien</td>\n",
              "      <td>1990</td>\n",
              "      <td>NaN</td>\n",
              "    </tr>\n",
              "    <tr>\n",
              "      <th>547</th>\n",
              "      <td>Türkei</td>\n",
              "      <td>1990</td>\n",
              "      <td>5315.0</td>\n",
              "    </tr>\n",
              "    <tr>\n",
              "      <th>548</th>\n",
              "      <td>USA</td>\n",
              "      <td>1990</td>\n",
              "      <td>306170.0</td>\n",
              "    </tr>\n",
              "    <tr>\n",
              "      <th>549</th>\n",
              "      <td>Ungarn</td>\n",
              "      <td>1990</td>\n",
              "      <td>NaN</td>\n",
              "    </tr>\n",
              "    <tr>\n",
              "      <th>550</th>\n",
              "      <td>Großbritannien</td>\n",
              "      <td>1990</td>\n",
              "      <td>39590.0</td>\n",
              "    </tr>\n",
              "  </tbody>\n",
              "</table>\n",
              "<p>551 rows × 3 columns</p>\n",
              "</div>\n",
              "      <button class=\"colab-df-convert\" onclick=\"convertToInteractive('df-c998e232-5092-481e-aaba-fa3c5419bf2e')\"\n",
              "              title=\"Convert this dataframe to an interactive table.\"\n",
              "              style=\"display:none;\">\n",
              "        \n",
              "  <svg xmlns=\"http://www.w3.org/2000/svg\" height=\"24px\"viewBox=\"0 0 24 24\"\n",
              "       width=\"24px\">\n",
              "    <path d=\"M0 0h24v24H0V0z\" fill=\"none\"/>\n",
              "    <path d=\"M18.56 5.44l.94 2.06.94-2.06 2.06-.94-2.06-.94-.94-2.06-.94 2.06-2.06.94zm-11 1L8.5 8.5l.94-2.06 2.06-.94-2.06-.94L8.5 2.5l-.94 2.06-2.06.94zm10 10l.94 2.06.94-2.06 2.06-.94-2.06-.94-.94-2.06-.94 2.06-2.06.94z\"/><path d=\"M17.41 7.96l-1.37-1.37c-.4-.4-.92-.59-1.43-.59-.52 0-1.04.2-1.43.59L10.3 9.45l-7.72 7.72c-.78.78-.78 2.05 0 2.83L4 21.41c.39.39.9.59 1.41.59.51 0 1.02-.2 1.41-.59l7.78-7.78 2.81-2.81c.8-.78.8-2.07 0-2.86zM5.41 20L4 18.59l7.72-7.72 1.47 1.35L5.41 20z\"/>\n",
              "  </svg>\n",
              "      </button>\n",
              "      \n",
              "  <style>\n",
              "    .colab-df-container {\n",
              "      display:flex;\n",
              "      flex-wrap:wrap;\n",
              "      gap: 12px;\n",
              "    }\n",
              "\n",
              "    .colab-df-convert {\n",
              "      background-color: #E8F0FE;\n",
              "      border: none;\n",
              "      border-radius: 50%;\n",
              "      cursor: pointer;\n",
              "      display: none;\n",
              "      fill: #1967D2;\n",
              "      height: 32px;\n",
              "      padding: 0 0 0 0;\n",
              "      width: 32px;\n",
              "    }\n",
              "\n",
              "    .colab-df-convert:hover {\n",
              "      background-color: #E2EBFA;\n",
              "      box-shadow: 0px 1px 2px rgba(60, 64, 67, 0.3), 0px 1px 3px 1px rgba(60, 64, 67, 0.15);\n",
              "      fill: #174EA6;\n",
              "    }\n",
              "\n",
              "    [theme=dark] .colab-df-convert {\n",
              "      background-color: #3B4455;\n",
              "      fill: #D2E3FC;\n",
              "    }\n",
              "\n",
              "    [theme=dark] .colab-df-convert:hover {\n",
              "      background-color: #434B5C;\n",
              "      box-shadow: 0px 1px 3px 1px rgba(0, 0, 0, 0.15);\n",
              "      filter: drop-shadow(0px 1px 2px rgba(0, 0, 0, 0.3));\n",
              "      fill: #FFFFFF;\n",
              "    }\n",
              "  </style>\n",
              "\n",
              "      <script>\n",
              "        const buttonEl =\n",
              "          document.querySelector('#df-c998e232-5092-481e-aaba-fa3c5419bf2e button.colab-df-convert');\n",
              "        buttonEl.style.display =\n",
              "          google.colab.kernel.accessAllowed ? 'block' : 'none';\n",
              "\n",
              "        async function convertToInteractive(key) {\n",
              "          const element = document.querySelector('#df-c998e232-5092-481e-aaba-fa3c5419bf2e');\n",
              "          const dataTable =\n",
              "            await google.colab.kernel.invokeFunction('convertToInteractive',\n",
              "                                                     [key], {});\n",
              "          if (!dataTable) return;\n",
              "\n",
              "          const docLinkHtml = 'Like what you see? Visit the ' +\n",
              "            '<a target=\"_blank\" href=https://colab.research.google.com/notebooks/data_table.ipynb>data table notebook</a>'\n",
              "            + ' to learn more about interactive tables.';\n",
              "          element.innerHTML = '';\n",
              "          dataTable['output_type'] = 'display_data';\n",
              "          await google.colab.output.renderOutput(dataTable, element);\n",
              "          const docLink = document.createElement('div');\n",
              "          docLink.innerHTML = docLinkHtml;\n",
              "          element.appendChild(docLink);\n",
              "        }\n",
              "      </script>\n",
              "    </div>\n",
              "  </div>\n",
              "  "
            ]
          },
          "metadata": {},
          "execution_count": 5
        }
      ]
    }
  ]
}